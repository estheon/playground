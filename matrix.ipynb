{
 "cells": [
  {
   "cell_type": "markdown",
   "metadata": {},
   "source": [
    "Generally, a matrix is a two dimensional structure of rows and columns. Python alone does not have a built in type for matrices, but there are nested lists:"
   ]
  },
  {
   "cell_type": "code",
   "execution_count": 1,
   "metadata": {},
   "outputs": [],
   "source": [
    "A = [[1, 4, 5], \n",
    "    [-5, 8, 9]]"
   ]
  },
  {
   "attachments": {
    "image.png": {
     "image/png": "[encoded data removed]"
    }
   },
   "cell_type": "markdown",
   "metadata": {},
   "source": [
    "Matrix A has two rows and three columns.  \n",
    "![image.png](attachment:image.png)"
   ]
  },
  {
   "cell_type": "markdown",
   "metadata": {},
   "source": [
    "This is how you access elements, rows, and columns in nested lists. Note that accessing elements in a column requires a `for` loop."
   ]
  },
  {
   "cell_type": "code",
   "execution_count": 2,
   "metadata": {},
   "outputs": [
    {
     "name": "stdout",
     "output_type": "stream",
     "text": [
      "B = [[1, 4, 5, 12], [-5, 8, 9, 0], [-6, 7, 11, 19]]\n",
      "B[1] = [-5, 8, 9, 0]\n",
      "B[1][2] = 9\n",
      "B[0][-1] = 12\n",
      "B[-1][-2] = 11\n",
      "3rd column = [5, 9, 11]\n"
     ]
    }
   ],
   "source": [
    "B = [[1, 4, 5, 12], \n",
    "    [-5, 8, 9, 0],\n",
    "    [-6, 7, 11, 19]]\n",
    "\n",
    "print(\"B =\", B) \n",
    "print(\"B[1] =\", B[1])      # 2nd row\n",
    "print(\"B[1][2] =\", B[1][2])   # 3rd element of 2nd row\n",
    "print(\"B[0][-1] =\", B[0][-1])   # Last element of 1st Row\n",
    "print(\"B[-1][-2] =\", B[-1][-2]) # Third element of last row. (this shows negative indices work too)\n",
    "\n",
    "column = [];        # empty list\n",
    "for row in B:\n",
    "  column.append(row[2])   \n",
    "\n",
    "print(\"3rd column =\", column)"
   ]
  },
  {
   "cell_type": "markdown",
   "metadata": {},
   "source": [
    "The addition or multiplication of nested lists requires a nested `for` loop. It also requires that both nested lists have the same dimensions."
   ]
  },
  {
   "cell_type": "code",
   "execution_count": 3,
   "metadata": {},
   "outputs": [
    {
     "name": "stdout",
     "output_type": "stream",
     "text": [
      "[[0, 0, 0, 0], [0, 0, 0, 0], [0, 0, 0, 0]]\n",
      "[8, 15, 14, 23]\n",
      "[-12, 19, 0, 11]\n",
      "[-6, 8, 12, 19]\n"
     ]
    }
   ],
   "source": [
    "C = [[7, 11, 9, 11], [-7, 11, -9, 11], [0, 1, 1, 0]]\n",
    "\n",
    "BplusC = [[0,0,0,0],[0,0,0,0],[0,0,0,0]]\n",
    "print(BplusC)\n",
    "\n",
    "# Iterate through rows\n",
    "for i in range(len(B)):\n",
    "    # Iterate through each column\n",
    "    for j in range(len(B[1])):\n",
    "        BplusC[i][j] = B[i][j] + C[i][j]\n",
    "\n",
    "for i in BplusC:\n",
    "    print(i)"
   ]
  },
  {
   "cell_type": "markdown",
   "metadata": {},
   "source": [
    "**Debugging:** Note that this code cell below does not return the right result. This is because every row in BplusC_1 occupies the same memory address, as shown by line 11. Every time one value in a row gets modified, all values in the other rows that are in the same column are modified too."
   ]
  },
  {
   "cell_type": "code",
   "execution_count": 12,
   "metadata": {},
   "outputs": [
    {
     "name": "stdout",
     "output_type": "stream",
     "text": [
      "[[8, 0, 0, 0], [8, 0, 0, 0], [8, 0, 0, 0]]\n",
      "[[8, 15, 0, 0], [8, 15, 0, 0], [8, 15, 0, 0]]\n",
      "[[8, 15, 14, 0], [8, 15, 14, 0], [8, 15, 14, 0]]\n",
      "[[8, 15, 14, 23], [8, 15, 14, 23], [8, 15, 14, 23]]\n",
      "[[-12, 15, 14, 23], [-12, 15, 14, 23], [-12, 15, 14, 23]]\n",
      "[[-12, 19, 14, 23], [-12, 19, 14, 23], [-12, 19, 14, 23]]\n",
      "[[-12, 19, 0, 23], [-12, 19, 0, 23], [-12, 19, 0, 23]]\n",
      "[[-12, 19, 0, 11], [-12, 19, 0, 11], [-12, 19, 0, 11]]\n",
      "[[-6, 19, 0, 11], [-6, 19, 0, 11], [-6, 19, 0, 11]]\n",
      "[[-6, 8, 0, 11], [-6, 8, 0, 11], [-6, 8, 0, 11]]\n",
      "[[-6, 8, 12, 11], [-6, 8, 12, 11], [-6, 8, 12, 11]]\n",
      "[[-6, 8, 12, 19], [-6, 8, 12, 19], [-6, 8, 12, 19]]\n",
      "[[-6, 8, 12, 19], [-6, 8, 12, 19], [-6, 8, 12, 19]]\n"
     ]
    }
   ],
   "source": [
    "fourzeros = [[0,0,0,0]]\n",
    "BplusC_1 = []\n",
    "for i in range(3):\n",
    "    BplusC_1.extend(fourzeros)\n",
    "\n",
    "# Iterate through rows\n",
    "for i in range(len(B)):\n",
    "    # Iterate through each column\n",
    "    for j in range(len(B[1])):\n",
    "        BplusC_1[i][j] = B[i][j] + C[i][j]\n",
    "        print(BplusC_1)\n",
    "\n",
    "print(BplusC_1)"
   ]
  },
  {
   "cell_type": "code",
   "execution_count": null,
   "metadata": {},
   "outputs": [],
   "source": []
  },
  {
   "cell_type": "code",
   "execution_count": null,
   "metadata": {},
   "outputs": [],
   "source": []
  }
 ],
 "metadata": {
  "kernelspec": {
   "display_name": "Python 3",
   "language": "python",
   "name": "python3"
  },
  "language_info": {
   "codemirror_mode": {
    "name": "ipython",
    "version": 3
   },
   "file_extension": ".py",
   "mimetype": "text/x-python",
   "name": "python",
   "nbconvert_exporter": "python",
   "pygments_lexer": "ipython3",
   "version": "3.8.5"
  }
 },
 "nbformat": 4,
 "nbformat_minor": 4
}
