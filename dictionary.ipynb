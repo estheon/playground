{
 "cells": [
  {
   "cell_type": "markdown",
   "metadata": {},
   "source": [
    "**Dictionary** - a faster but more immutable alternative to lists.  \n",
    "* the first value in the __:__ layout is called the **key**, and it can be retrieved using `keys()`, and the second value is just called the *value*.\n",
    "* Elements of a dictionary are *ordered*."
   ]
  },
  {
   "cell_type": "code",
   "execution_count": 1,
   "metadata": {},
   "outputs": [
    {
     "name": "stdout",
     "output_type": "stream",
     "text": [
      "dict_keys(['Afghanistan', 'Albania', 'Algeria'])\n",
      "2.77\n"
     ]
    }
   ],
   "source": [
    "world = {\"Afghanistan\":30.55, \"Albania\":2.77, \"Algeria\":39.21}\n",
    "print(world.keys())\n",
    "print(world[\"Albania\"])"
   ]
  },
  {
   "cell_type": "markdown",
   "metadata": {},
   "source": [
    "A value can be updated by two methods:\n",
    "1. Type the key again with the new value\n",
    "2. Use = to simply assign a new value"
   ]
  },
  {
   "cell_type": "code",
   "execution_count": 5,
   "metadata": {},
   "outputs": [
    {
     "name": "stdout",
     "output_type": "stream",
     "text": [
      "2.81\n",
      "2.77\n"
     ]
    }
   ],
   "source": [
    "# Method 1\n",
    "world = {\"Afghanistan\":30.55, \"Albania\":2.77, \"Algeria\":39.21, \"Albania\":2.81}\n",
    "print(world[\"Albania\"])\n",
    "# Method 2\n",
    "world[\"Albania\"] = 2.77\n",
    "print(world[\"Albania\"])"
   ]
  },
  {
   "cell_type": "markdown",
   "metadata": {},
   "source": [
    "A key can be added (and deleted) like so.  \n",
    "Like with lists and matrices, the new value is added to the end of the dictionary."
   ]
  },
  {
   "cell_type": "code",
   "execution_count": 7,
   "metadata": {},
   "outputs": [
    {
     "name": "stdout",
     "output_type": "stream",
     "text": [
      "{'Afghanistan': 30.55, 'Albania': 2.77, 'Algeria': 39.21, 'sealand': 2.7e-05}\n",
      "False\n"
     ]
    }
   ],
   "source": [
    "# Add sealand\n",
    "world[\"sealand\"] = 0.000027\n",
    "# Check if sealand is in the dictionary\n",
    "print(world)\n",
    "\n",
    "# Delete sealand\n",
    "del(world[\"sealand\"])\n",
    "# Now check again if it is in there, printing a boolean\n",
    "print(\"sealand\" in world)"
   ]
  },
  {
   "cell_type": "markdown",
   "metadata": {},
   "source": [
    "The key is an immutable, single value. This prints an error because you're trying to assign a key with multiple values."
   ]
  },
  {
   "cell_type": "code",
   "execution_count": 8,
   "metadata": {},
   "outputs": [
    {
     "ename": "TypeError",
     "evalue": "unhashable type: 'list'",
     "output_type": "error",
     "traceback": [
      "\u001b[1;31m---------------------------------------------------------------------------\u001b[0m",
      "\u001b[1;31mTypeError\u001b[0m                                 Traceback (most recent call last)",
      "\u001b[1;32m<ipython-input-8-67c325e27737>\u001b[0m in \u001b[0;36m<module>\u001b[1;34m\u001b[0m\n\u001b[1;32m----> 1\u001b[1;33m \u001b[0mdict_test\u001b[0m \u001b[1;33m=\u001b[0m \u001b[1;33m{\u001b[0m\u001b[1;33m[\u001b[0m\u001b[1;34m\"just\"\u001b[0m\u001b[1;33m,\u001b[0m\u001b[1;34m\"to\"\u001b[0m\u001b[1;33m,\u001b[0m\u001b[1;34m\"test\"\u001b[0m\u001b[1;33m]\u001b[0m\u001b[1;33m:\u001b[0m\u001b[1;34m\"value\"\u001b[0m\u001b[1;33m}\u001b[0m\u001b[1;33m\u001b[0m\u001b[1;33m\u001b[0m\u001b[0m\n\u001b[0m",
      "\u001b[1;31mTypeError\u001b[0m: unhashable type: 'list'"
     ]
    }
   ],
   "source": [
    "dict_test = {[\"just\",\"to\",\"test\"]:\"value\"}"
   ]
  },
  {
   "cell_type": "markdown",
   "metadata": {},
   "source": [
    "Like lists, dictionaries can contain other dictionaries, and specific elements can be fetched using brackets like so:"
   ]
  },
  {
   "cell_type": "code",
   "execution_count": 18,
   "metadata": {},
   "outputs": [
    {
     "name": "stdout",
     "output_type": "stream",
     "text": [
      "paris\n",
      "{'capital': 'madrid', 'population': 46.77}\n",
      "5.084\n"
     ]
    }
   ],
   "source": [
    "europe = { 'spain': { 'capital':'madrid', 'population':46.77 },\n",
    "           'france': { 'capital':'paris', 'population':66.03 },\n",
    "           'germany': { 'capital':'berlin', 'population':80.62 },\n",
    "           'norway': { 'capital':'oslo', 'population':5.084 }}\n",
    "print(europe[\"france\"][\"capital\"])\n",
    "print(europe[\"spain\"])\n",
    "print(europe[\"norway\"][\"population\"])"
   ]
  },
  {
   "cell_type": "markdown",
   "metadata": {},
   "source": [
    "You cannot fetch specific elements like this, you must explicitly type the key value."
   ]
  },
  {
   "cell_type": "code",
   "execution_count": 20,
   "metadata": {},
   "outputs": [
    {
     "ename": "KeyError",
     "evalue": "0",
     "output_type": "error",
     "traceback": [
      "\u001b[1;31m---------------------------------------------------------------------------\u001b[0m",
      "\u001b[1;31mKeyError\u001b[0m                                  Traceback (most recent call last)",
      "\u001b[1;32m<ipython-input-20-4075979f8e63>\u001b[0m in \u001b[0;36m<module>\u001b[1;34m\u001b[0m\n\u001b[0;32m      1\u001b[0m \u001b[1;31m# Trying to print the capital\u001b[0m\u001b[1;33m\u001b[0m\u001b[1;33m\u001b[0m\u001b[1;33m\u001b[0m\u001b[0m\n\u001b[1;32m----> 2\u001b[1;33m \u001b[0mprint\u001b[0m\u001b[1;33m(\u001b[0m\u001b[0meurope\u001b[0m\u001b[1;33m[\u001b[0m\u001b[1;36m0\u001b[0m\u001b[1;33m]\u001b[0m\u001b[1;33m[\u001b[0m\u001b[1;36m0\u001b[0m\u001b[1;33m]\u001b[0m\u001b[1;33m)\u001b[0m\u001b[1;33m\u001b[0m\u001b[1;33m\u001b[0m\u001b[0m\n\u001b[0m",
      "\u001b[1;31mKeyError\u001b[0m: 0"
     ]
    }
   ],
   "source": [
    "# Trying to print the capital\n",
    "print(europe[0][0])"
   ]
  },
  {
   "cell_type": "markdown",
   "metadata": {},
   "source": [
    "Loops work on dictionaries like any other iterable:"
   ]
  },
  {
   "cell_type": "code",
   "execution_count": 33,
   "metadata": {},
   "outputs": [
    {
     "name": "stdout",
     "output_type": "stream",
     "text": [
      "Afghanistan 30.55\n",
      "Albania 2.77\n",
      "Algeria 39.21\n",
      "\n",
      "\n",
      "spain --\n",
      "capital madrid\n",
      "population 46.77\n",
      "france --\n",
      "capital paris\n",
      "population 66.03\n",
      "germany --\n",
      "capital berlin\n",
      "population 80.62\n",
      "norway --\n",
      "capital oslo\n",
      "population 5.084\n"
     ]
    }
   ],
   "source": [
    "# Notice that when using the print(x,y) structure, \"x\" and \"y\" are automatically spaced apart by one space\n",
    "for k, v in world.items():\n",
    "    print(k,v)\n",
    "print(\"\\n\")\n",
    "for k, v in europe.items():\n",
    "    print(k,\"--\")\n",
    "    # It's not europe.v.items() it's just v.items()\n",
    "    for m, n in v.items():\n",
    "        print(m,n)"
   ]
  },
  {
   "cell_type": "code",
   "execution_count": null,
   "metadata": {},
   "outputs": [],
   "source": []
  }
 ],
 "metadata": {
  "kernelspec": {
   "display_name": "Python 3",
   "language": "python",
   "name": "python3"
  },
  "language_info": {
   "codemirror_mode": {
    "name": "ipython",
    "version": 3
   },
   "file_extension": ".py",
   "mimetype": "text/x-python",
   "name": "python",
   "nbconvert_exporter": "python",
   "pygments_lexer": "ipython3",
   "version": "3.8.5"
  }
 },
 "nbformat": 4,
 "nbformat_minor": 4
}
