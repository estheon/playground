{
 "cells": [
  {
   "cell_type": "markdown",
   "metadata": {},
   "source": [
    "Lists are iterables that can contain practically any data type."
   ]
  },
  {
   "cell_type": "code",
   "execution_count": 6,
   "metadata": {},
   "outputs": [
    {
     "name": "stdout",
     "output_type": "stream",
     "text": [
      "['apple', 'banana', 'cherry', 'kiwi', 'mango', 'pear']\n",
      "['apple', 'bread', 'banana', 'cherry', 'kiwi', 'mango', 'pear']\n"
     ]
    }
   ],
   "source": [
    "# Create list\n",
    "fruits = [\"apple\", \"banana\", \"cherry\", \"kiwi\", \"mango\"]\n",
    "vegetables = list((\"carrot\",\"celery\",\"broccoli\"))\n",
    "# Add an element\n",
    "fruits.append(\"pear\")\n",
    "print(fruits)\n",
    "# Add an element at a specific position\n",
    "fruits.insert(1,\"bread\")\n",
    "print(fruits)"
   ]
  },
  {
   "cell_type": "code",
   "execution_count": 11,
   "metadata": {},
   "outputs": [
    {
     "name": "stdout",
     "output_type": "stream",
     "text": [
      "2\n",
      "['apple', 'kiwi', 'mango', 'pear']\n",
      "['broccoli', 'carrot', 'celery']\n",
      "['garlic', 'celery', 'carrot', 'broccoli']\n"
     ]
    }
   ],
   "source": [
    "# Get the index of the first element that matches the string\n",
    "print(vegetables.index(\"broccoli\"))\n",
    "# Delete an element (bread is not a fruit)\n",
    "fruits.pop(1)\n",
    "print(fruits)\n",
    "# Sort in alphabetical order\n",
    "vegetables.sort()\n",
    "print(vegetables)\n",
    "# Add another vegetable, sort in reverse order\n",
    "vegetables.append(\"garlic\")\n",
    "vegetables.sort(reverse=True)\n",
    "print(vegetables)"
   ]
  },
  {
   "cell_type": "markdown",
   "metadata": {},
   "source": [
    "List comprehension syntax:"
   ]
  },
  {
   "cell_type": "code",
   "execution_count": 16,
   "metadata": {},
   "outputs": [
    {
     "name": "stdout",
     "output_type": "stream",
     "text": [
      "['apple', 'mango', 'pear']\n",
      "['mango']\n"
     ]
    }
   ],
   "source": [
    "fruats = [x for x in fruits if \"a\" in x]\n",
    "print(fruats)\n",
    "picky = [x for x in fruits if x == \"mango\"]\n",
    "print(picky)"
   ]
  },
  {
   "cell_type": "code",
   "execution_count": null,
   "metadata": {},
   "outputs": [],
   "source": []
  }
 ],
 "metadata": {
  "kernelspec": {
   "display_name": "Python 3",
   "language": "python",
   "name": "python3"
  },
  "language_info": {
   "codemirror_mode": {
    "name": "ipython",
    "version": 3
   },
   "file_extension": ".py",
   "mimetype": "text/x-python",
   "name": "python",
   "nbconvert_exporter": "python",
   "pygments_lexer": "ipython3",
   "version": "3.8.5"
  }
 },
 "nbformat": 4,
 "nbformat_minor": 4
}
