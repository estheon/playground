{
 "cells": [
  {
   "cell_type": "markdown",
   "metadata": {},
   "source": [
    "A cool feature about Python is that it allows for *simultaenous* assingment of variables:"
   ]
  },
  {
   "cell_type": "code",
   "execution_count": 3,
   "metadata": {},
   "outputs": [
    {
     "name": "stdout",
     "output_type": "stream",
     "text": [
      "Desired Outcome:\n",
      "10\n",
      "5\n",
      "\n",
      "\n",
      "ATTEMPT 1. The Wrong Way.\n",
      "10\n",
      "10\n",
      "\n",
      "\n",
      "ATTEMPT 2. A Non-Pythonic Way that Works.\n",
      "10\n",
      "5\n",
      "\n",
      "\n",
      "ATTEMPT 3. The Python Way.\n",
      "10\n",
      "5\n"
     ]
    }
   ],
   "source": [
    "print(\"Desired Outcome:\")\n",
    "print(10)\n",
    "print(5)\n",
    "print(\"\\n\")\n",
    "\n",
    "## The wrong way\n",
    "a=5\n",
    "b=10\n",
    "a=b\n",
    "b=a\n",
    "print(\"ATTEMPT 1. The Wrong Way.\")\n",
    "print(a)\n",
    "print(b)\n",
    "print(\"\\n\")\n",
    "\n",
    "## The non-Python way\n",
    "a=5\n",
    "b=10\n",
    "# requires a temporary variable\n",
    "temp=a\n",
    "a=b\n",
    "b=temp\n",
    "print(\"ATTEMPT 2. A Non-Pythonic Way that Works.\")\n",
    "print(a)\n",
    "print(b)\n",
    "print(\"\\n\")\n",
    "\n",
    "## The Python way\n",
    "a=5\n",
    "b=10\n",
    "a,b = b,a\n",
    "print(\"ATTEMPT 3. The Python Way.\")\n",
    "print(a)\n",
    "print(b)"
   ]
  },
  {
   "cell_type": "code",
   "execution_count": null,
   "metadata": {},
   "outputs": [],
   "source": []
  }
 ],
 "metadata": {
  "kernelspec": {
   "display_name": "Python 3",
   "language": "python",
   "name": "python3"
  },
  "language_info": {
   "codemirror_mode": {
    "name": "ipython",
    "version": 3
   },
   "file_extension": ".py",
   "mimetype": "text/x-python",
   "name": "python",
   "nbconvert_exporter": "python",
   "pygments_lexer": "ipython3",
   "version": "3.8.5"
  }
 },
 "nbformat": 4,
 "nbformat_minor": 4
}
