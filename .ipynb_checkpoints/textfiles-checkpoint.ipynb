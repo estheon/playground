{
 "cells": [
  {
   "cell_type": "markdown",
   "metadata": {},
   "source": [
    "Taken from: https://realpython.com/read-write-files-python/"
   ]
  },
  {
   "cell_type": "markdown",
   "metadata": {},
   "source": [
    "# What Is a File?\n",
    "Before we can go into how to work with files in Python, it’s important to understand what exactly a file is and how modern operating systems handle some of their aspects.  \n",
    "  \n",
    "At its core, a file is a contiguous set of bytes used to store data. This data is organized in a specific format and can be anything as simple as a text file or as complicated as a program executable. In the end, these byte files are then translated into binary 1 and 0 for easier processing by the computer.  \n",
    "  \n",
    "Files on most modern file systems are composed of three main parts:\n",
    "\n",
    "1. Header: metadata about the contents of the file (file name, size, type, and so on)\n",
    "2. Data: contents of the file as written by the creator or editor\n",
    "3. End of file (EOF): special character that indicates the end of the file"
   ]
  },
  {
   "cell_type": "markdown",
   "metadata": {},
   "source": [
    "![Diagram of a file's structure](https://files.realpython.com/media/FileFormat.02335d06829d.png)"
   ]
  },
  {
   "cell_type": "markdown",
   "metadata": {},
   "source": [
    "### File Paths\n",
    "Remember that all files are accessed using a file path. If one is accessing a file in the same working directory, the file name is sufficient. But if the file is in a subfolder, the subfolder must be specfied as well.  \n",
    "  \n",
    "If one is accessing a file in a folder *above*, one must move their current location to that above subfolder. *It is not sufficient to specify the path of such a file!*"
   ]
  },
  {
   "cell_type": "markdown",
   "metadata": {},
   "source": [
    "### Line Endings\n",
    "A short history lesson: In the Morse code era of communications, new lines (or ends of transmissions) were indicated using prosigns, which were basically short little unique signals.  \n",
    "  \n",
    "Later on, the line ending was standardized for teleprinters by both the International Organization for Standardization (ISO) and the American Standards Association (ASA). ASA standard states that line endings should use the sequence of the Carriage Return (CR or \\r) and the Line Feed (LF or \\n) characters (CR+LF or \\r\\n). The ISO standard however allowed for either the CR+LF characters or just the LF character.  \n",
    "  \n",
    "Windows uses the CR+LF characters to indicate a new line, while Unix and the newer Mac versions use just the LF character. This can cause some complications when you’re processing files on an operating system that is different than the file’s source. "
   ]
  },
  {
   "cell_type": "markdown",
   "metadata": {},
   "source": [
    "Here’s a quick example. Let’s say that we examine the file dog_breeds.txt that was created on a Windows system:  \n",
    "  \n",
    "```python\n",
    "Pug\\r\\n\n",
    "Jack Russell Terrier\\r\\n\n",
    "English Springer Spaniel\\r\\n\n",
    "German Shepherd\\r\\n\n",
    "Staffordshire Bull Terrier\\r\\n\n",
    "Cavalier King Charles Spaniel\\r\\n\n",
    "Golden Retriever\\r\\n\n",
    "West Highland White Terrier\\r\\n\n",
    "Boxer\\r\\n\n",
    "Border Terrier\\r\\n\n",
    "```\n",
    "\n",
    "On a Unix system:\n",
    "\n",
    "```python\n",
    "Pug\\r\n",
    "\\n\n",
    "Jack Russell Terrier\\r\n",
    "\\n\n",
    "English Springer Spaniel\\r\n",
    "\\n\n",
    "German Shepherd\\r\n",
    "\\n\n",
    "Staffordshire Bull Terrier\\r\n",
    "\\n\n",
    "Cavalier King Charles Spaniel\\r\n",
    "\\n\n",
    "Golden Retriever\\r\n",
    "\\n\n",
    "West Highland White Terrier\\r\n",
    "\\n\n",
    "Boxer\\r\n",
    "\\n\n",
    "Border Terrier\\r\n",
    "\\n\n",
    "```"
   ]
  },
  {
   "cell_type": "markdown",
   "metadata": {},
   "source": [
    "### Character Encodings\n",
    "An encoding is a translation from byte data to human readable characters. This is typically done by assigning a numerical value to represent a character.  \n",
    "  \n",
    "The two most common encodings are the ASCII and UNICODE Formats. ASCII can only store 128 characters, while Unicode can contain up to 1,114,112 characters. \n",
    "  \n",
    "ASCII is actually a subset of Unicode (UTF-8), meaning that ASCII and Unicode share the same numerical to character values. Therefore, files written in ASCII can be shown without error in UTF-8, but not the other way around."
   ]
  },
  {
   "cell_type": "markdown",
   "metadata": {},
   "source": [
    "# Opening and Closing a File in Python  \n",
    "When you want to work with a file, the first thing to do is to open it. This is done by invoking the `open()` built-in function. `open()` has a single required argument that is the path to the file. It also has a `mode` argument, for choosing whether to read, write, or do both. `open()` has a single return, the file object:\n",
    "  \n",
    "`file = open('dog_breeds.txt')`  \n",
    "  \n",
    "Files that are opened should be closed to save resource space and prevent resource leaks or other unwanted behavior. As a general rule of thumb, code that minimizes unwanted behavior is **good code**. \n",
    "\n",
    "When you’re manipulating a file, there are two ways that you can use to ensure that a file is closed properly, even when encountering an error. The first way to close a file is to use the `try-finally` block:  "
   ]
  },
  {
   "cell_type": "code",
   "execution_count": 2,
   "metadata": {},
   "outputs": [
    {
     "name": "stdout",
     "output_type": "stream",
     "text": [
      "Washington\n",
      "New York\n",
      "St. Louis\n",
      "Chicago\n",
      "Philadelphia\n",
      "Charleston\n",
      "San Francisco\n",
      "Los Angeles\n",
      "Boston\n",
      "New Orleans\n",
      "Buffalo\n",
      "Baltimore\n",
      "Cleveland\n",
      "Atlanta\n",
      "Cincinnati\n",
      "San Antonio\n",
      "Houstin"
     ]
    }
   ],
   "source": [
    "reader = open('sampletxt_uscities.txt','r')\n",
    "try:\n",
    "    for line in reader:\n",
    "        print(line, end=\"\")\n",
    "finally:\n",
    "    reader.close()"
   ]
  },
  {
   "cell_type": "markdown",
   "metadata": {},
   "source": [
    "However, the better way to do this is with the `with` statement. It automatically closes the file after everything in the `with` statement is executed."
   ]
  },
  {
   "cell_type": "code",
   "execution_count": 4,
   "metadata": {},
   "outputs": [
    {
     "name": "stdout",
     "output_type": "stream",
     "text": [
      "Washington\n",
      "New York\n",
      "St. Louis\n",
      "Chicago\n",
      "Philadelphia\n",
      "Charleston\n",
      "San Francisco\n",
      "Los Angeles\n",
      "Boston\n",
      "New Orleans\n",
      "Buffalo\n",
      "Baltimore\n",
      "Cleveland\n",
      "Atlanta\n",
      "Cincinnati\n",
      "San Antonio\n",
      "Houstin"
     ]
    }
   ],
   "source": [
    "with open(\"sampletxt_uscities.txt\",\"r\") as reader:\n",
    "    for line in reader:\n",
    "        print(line, end = \"\")"
   ]
  },
  {
   "cell_type": "code",
   "execution_count": null,
   "metadata": {},
   "outputs": [],
   "source": []
  }
 ],
 "metadata": {
  "kernelspec": {
   "display_name": "Python 3",
   "language": "python",
   "name": "python3"
  },
  "language_info": {
   "codemirror_mode": {
    "name": "ipython",
    "version": 3
   },
   "file_extension": ".py",
   "mimetype": "text/x-python",
   "name": "python",
   "nbconvert_exporter": "python",
   "pygments_lexer": "ipython3",
   "version": "3.8.5"
  }
 },
 "nbformat": 4,
 "nbformat_minor": 4
}
