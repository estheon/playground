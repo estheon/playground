{
 "cells": [
  {
   "cell_type": "markdown",
   "metadata": {},
   "source": [
    "Basic string operations:"
   ]
  },
  {
   "cell_type": "code",
   "execution_count": 1,
   "metadata": {},
   "outputs": [],
   "source": [
    "word = \"Hello World!\"\n",
    "\n",
    "# Access a specific letter\n",
    "first = word[1]\n",
    "print(first)\n",
    "\n",
    "# Get length of string\n",
    "long = len(word)\n",
    "print(long)\n",
    "\n",
    "# Find the index of the first instance of a letter\n",
    "letter_o = word.find(\"o\")\n",
    "print(letter_o)\n",
    "\n",
    "# Find a substring and get the index of the first instance\n",
    "print(word.index(\"World\"))\n",
    "\n",
    "# Count how many of a letter there are\n",
    "print(word.count(\"o\"))"
   ]
  },
  {
   "cell_type": "markdown",
   "metadata": {},
   "source": [
    "Here are more operations that are a little less basic:"
   ]
  },
  {
   "cell_type": "code",
   "execution_count": 2,
   "metadata": {},
   "outputs": [
    {
     "name": "stdout",
     "output_type": "stream",
     "text": [
      "['Hello', 'World!']\n",
      "['Hell', ' W', 'rld!']\n",
      "False\n",
      "True\n",
      "meow meow meow meow meow meow meow meow meow meow \n",
      "Hello World! Hello World!\n",
      "Goodbye World! Goodbye World!\n",
      "Nasa Finds Cheese On The Moon\n",
      "NASA FINDS CHEESE ON THE MOON\n",
      "nasa finds cheese on the moon\n",
      "Nasa finds cheese on the moon\n",
      "nasa FINDS CHEESE ON THE MOON\n",
      ".yag m'I\n",
      "I'm gay.\n",
      "I'm gay.\n"
     ]
    }
   ],
   "source": [
    "# Split a string. Note that the specified character doesn't appear in the results\n",
    "print(word.split(\" \"))\n",
    "print(word.split(\"o\"))\n",
    "\n",
    "# Start and end with a certain letter. Note that it's not case sensitive\n",
    "print(word.startswith(\"h\"))\n",
    "print(word.endswith(\"!\"))\n",
    "\n",
    "# Repeat a string\n",
    "print(\"meow \"*10)\n",
    "\n",
    "# Replace all instances of a substring with another\n",
    "word2 = word + \" \" + word\n",
    "print(word2)\n",
    "print(word2.replace(\"Hello\", \"Goodbye\"))\n",
    "\n",
    "# Case manipulation\n",
    "sentence = \"NASA finds cheese on the moon\"\n",
    "print(sentence.title()) # Note that .title() edits the capitalization of all words, including abbreviations\n",
    "print(sentence.upper())\n",
    "print(sentence.lower())\n",
    "print(sentence.capitalize()) # .capitalize() simply caps the first letter and leaves everything else lower case\n",
    "print(sentence.swapcase())\n",
    "\n",
    "# Reverse a string\n",
    "rev_sen = \".yag m'I\"\n",
    "print(rev_sen)\n",
    "print(rev_sen[::-1])\n",
    "print(\"\".join(reversed(rev_sen))) # Alternate method using .join(). "
   ]
  },
  {
   "cell_type": "markdown",
   "metadata": {},
   "source": [
    "You can strip characters from the ends of a string. This includes new line characters."
   ]
  },
  {
   "cell_type": "code",
   "execution_count": 20,
   "metadata": {},
   "outputs": [
    {
     "name": "stdout",
     "output_type": "stream",
     "text": [
      "Before stripping: \n",
      "Hello World\n",
      "\n",
      "After stripping: Hello World\n",
      "Before stripping: xyz \n",
      "After stripping:xyz\n",
      "Before stripping: abc\n",
      "After stripping: abc\n",
      "Hello World!\n",
      "Hello World!\n",
      "ello World!\n",
      "Hello World\n"
     ]
    }
   ],
   "source": [
    "word3 = \"\\nHello World\\n\"\n",
    "print(\"Before stripping: \" + word3)\n",
    "print(\"After stripping: \" + word3.strip())\n",
    "word4 = \" xyz \"\n",
    "print(\"Before stripping:\" + word4)\n",
    "print(\"After stripping:\" + word4.strip())\n",
    "word5 = \"abc\"\n",
    "print(\"Before stripping: \" + word5)\n",
    "print(\"After stripping: \" + word5.strip()) # When there is no character specified, white space is removed.\n",
    "\n",
    "print(word.strip(\"o\")) # the letter o is present in \"Hello World!\" but it's not at the ends, so it isn't stripped\n",
    "print(word.lstrip(\"h\")) \n",
    "print(word.lstrip(\"H\")) # the stripping commands are case sensitive\n",
    "print(word.rstrip(\"!\"))"
   ]
  },
  {
   "cell_type": "markdown",
   "metadata": {},
   "source": [
    "Boolean statements:"
   ]
  },
  {
   "cell_type": "code",
   "execution_count": 33,
   "metadata": {},
   "outputs": [
    {
     "name": "stdout",
     "output_type": "stream",
     "text": [
      "Alphanumeric test:\n",
      "False\n",
      "True\n",
      "Alphabetic test:\n",
      "False\n",
      "True\n",
      "Digits test:\n",
      "False\n",
      "True\n",
      "Title test:\n",
      "True\n",
      "False\n",
      "Cases test:\n",
      "False\n",
      "True\n",
      "False\n",
      "True\n",
      "Spaces test:\n",
      "False\n",
      "True\n",
      "Starting and ending with a certain character:\n",
      "False\n",
      "True\n"
     ]
    }
   ],
   "source": [
    "print(\"Alphanumeric test:\")\n",
    "print(word.isalnum()) #check if all char are alphanumeric \n",
    "print(word5.isalnum())\n",
    "print(\"Alphabetic test:\")\n",
    "print(word.isalpha()) #check if all char in the string are alphabetic\n",
    "print(\"meow\".isalpha())\n",
    "print(\"Digits test:\")\n",
    "print(word.isdigit()) #test if string contains digits\n",
    "print(\"5\".isdigit())\n",
    "print(\"Title test:\")\n",
    "print(word.istitle()) #test if string contains title words\n",
    "print(rev_sen.istitle())\n",
    "print(\"Cases test:\")\n",
    "print(word.isupper()) #test if string contains upper case\n",
    "print(\"BITCH\".isupper())\n",
    "print(word.islower()) #test if string contains lower case\n",
    "print(\"cheese\".islower())\n",
    "print(\"Spaces test:\")\n",
    "print(word.isspace()) #test if string contains spaces\n",
    "print(\"    \".isspace())\n",
    "print(\"Starting and ending with a certain character:\")\n",
    "print(word.endswith('d')) #test if string endswith a d\n",
    "print(word.startswith('H')) #test if string startswith H"
   ]
  },
  {
   "cell_type": "markdown",
   "metadata": {},
   "source": [
    "The `join()` method uses one string as a separator to combine multiple letters or strings into one."
   ]
  },
  {
   "cell_type": "code",
   "execution_count": 47,
   "metadata": {},
   "outputs": [
    {
     "name": "stdout",
     "output_type": "stream",
     "text": [
      "<class 'tuple'>\n",
      "<class 'set'>\n",
      "<class 'str'>\n",
      "<class 'dict'>\n",
      "bmeowameowrmeowkmeowbmeowameowrmeowkmeowbmeowameowrmeowkmeowbmeowameowrmeowkmeowbmeowameowrmeowk\n",
      "Trang Pak, Bethany Byrd, Muckleroy, Dawn Schweitzer, Amber D'Alessio, Janis Ian, Damian Leigh, Kaitlyn Caussin, Sharon Norbury, Regina George\n",
      "2 1 4 3 5\n",
      "milk, yogurt, broccoli, fish\n"
     ]
    }
   ],
   "source": [
    "# Create a tuple\n",
    "burnbook = (\"Trang Pak\", \"Bethany Byrd\", \"Muckleroy\", \"Dawn Schweitzer\", \"Amber D'Alessio\", \"Janis Ian\", \"Damian Leigh\", \"Kaitlyn Caussin\", \"Sharon Norbury\", \"Regina George\")\n",
    "print(type(burnbook))\n",
    "\n",
    "# Create a set, which is unordered\n",
    "num = {\"1\", \"2\", \"3\", \"4\", \"5\"}\n",
    "print(type(num))\n",
    "\n",
    "# Create a separator\n",
    "separator = \", \"\n",
    "print(type(separator))\n",
    "separator1 = \" \"\n",
    "\n",
    "# Create a dictionary\n",
    "dairy = {\"milk\":1, \"yogurt\":1, \"broccoli\":0, \"fish\":0}\n",
    "print(type(dairy))\n",
    "\n",
    "print(\"meow\".join(\"bark\"*5)) # Every letter in \"bark\" is separated by \"meow\"\n",
    "print(separator.join(burnbook))\n",
    "print(separator1.join(num))\n",
    "print(separator.join(dairy)) # Calling .join() on a dictionary that doesn't have strings as its keys will not work."
   ]
  },
  {
   "cell_type": "markdown",
   "metadata": {},
   "source": [
    "The `format()` method uses a template string to create a nicer looking output.  \n",
    "The syntax is: *template_with_arguments*.format(**arguments**)"
   ]
  },
  {
   "cell_type": "code",
   "execution_count": 55,
   "metadata": {},
   "outputs": [
    {
     "name": "stdout",
     "output_type": "stream",
     "text": [
      "Hello Adore Delano, your balance today is  90.34\n",
      "Hello Adore Delano, your balance today is  90.50\n",
      "Hello Adore Delano, your balance today is 1720996.12\n",
      "Hello Adore Delano, your balance today is  90.50\n"
     ]
    }
   ],
   "source": [
    "person = \"Adore Delano\"\n",
    "total = 90.34\n",
    "total1 = 90.499\n",
    "total2 = 1720996.1239\n",
    "\n",
    "# .format() can take a mixture of positional (e.g. 0,1,2,3) arguments and keyword (e.g. name, blc) arguments\n",
    "# Because of the exact nature of positional arguments, positional arguments always come first in the parentheses\n",
    "# In the below examples, the 6 in {1:6.2f} is how much minimum padding the second placeholder gets\n",
    "# The 2 in {1:6.2f} is how many places after the decimal point there will be\n",
    "# The f in {1:6.2f} tells Python this is a float, this is necessary in order to define the two characteristics above\n",
    "\n",
    "print(\"Hello {0}, your balance today is {1:6.2f}\".format(person,total))\n",
    "print(\"Hello {name}, your balance today is {blc:6.2f}\".format(name = person, blc = total1))\n",
    "print(\"Hello {0}, your balance today is {blc:6.2f}\".format(person, blc = total2))\n",
    "print(\"Hello {name}, your balance today is {0:6.2f}\".format(total1, name = person)) # balance is now index 0, not 1"
   ]
  },
  {
   "cell_type": "code",
   "execution_count": null,
   "metadata": {},
   "outputs": [],
   "source": []
  }
 ],
 "metadata": {
  "kernelspec": {
   "display_name": "Python 3",
   "language": "python",
   "name": "python3"
  },
  "language_info": {
   "codemirror_mode": {
    "name": "ipython",
    "version": 3
   },
   "file_extension": ".py",
   "mimetype": "text/x-python",
   "name": "python",
   "nbconvert_exporter": "python",
   "pygments_lexer": "ipython3",
   "version": "3.8.5"
  }
 },
 "nbformat": 4,
 "nbformat_minor": 4
}
